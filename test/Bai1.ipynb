{
  "nbformat": 4,
  "nbformat_minor": 0,
  "metadata": {
    "colab": {
      "provenance": []
    },
    "kernelspec": {
      "name": "python3",
      "display_name": "Python 3"
    },
    "language_info": {
      "name": "python"
    }
  },
  "cells": [
    {
      "cell_type": "markdown",
      "source": [
        "Bước 1: Tạo bộ dữ liệu đơn giản cho các chữ cái theo ma trận nhị phân, đại diện điểm ảnh 5x6"
      ],
      "metadata": {
        "id": "X3qIqT2YC4xQ"
      }
    },
    {
      "cell_type": "code",
      "source": [
        "# Creating data set\n",
        "\n",
        "# A\n",
        "a =[0, 0, 1, 1, 0, 0,\n",
        "   0, 1, 0, 0, 1, 0,\n",
        "   1, 1, 1, 1, 1, 1,\n",
        "   1, 0, 0, 0, 0, 1,\n",
        "   1, 0, 0, 0, 0, 1]\n",
        "# B\n",
        "b =[0, 1, 1, 1, 1, 0,\n",
        "   0, 1, 0, 0, 1, 0,\n",
        "   0, 1, 1, 1, 1, 0,\n",
        "   0, 1, 0, 0, 1, 0,\n",
        "   0, 1, 1, 1, 1, 0]\n",
        "# C\n",
        "c =[0, 1, 1, 1, 1, 0,\n",
        "   0, 1, 0, 0, 0, 0,\n",
        "   0, 1, 0, 0, 0, 0,\n",
        "   0, 1, 0, 0, 0, 0,\n",
        "   0, 1, 1, 1, 1, 0]\n",
        "\n",
        "# Creating labels\n",
        "y =[[1, 0, 0],\n",
        "   [0, 1, 0],\n",
        "   [0, 0, 1]]"
      ],
      "metadata": {
        "id": "wVvie-MCC13I"
      },
      "execution_count": 25,
      "outputs": []
    },
    {
      "cell_type": "markdown",
      "source": [
        "Bước 2: Trực quan hóa bằng thư viện **matplotlib**"
      ],
      "metadata": {
        "id": "NBiiCgBYDcTf"
      }
    },
    {
      "cell_type": "code",
      "source": [
        "import numpy as np\n",
        "import matplotlib.pyplot as plt\n",
        "# visualizing the data, plotting A.\n",
        "plt.imshow(np.array(a).reshape(5, 6))\n",
        "plt.show()"
      ],
      "metadata": {
        "colab": {
          "base_uri": "https://localhost:8080/",
          "height": 430
        },
        "id": "F8Lu_RsuC4hw",
        "outputId": "ca26e53c-8099-495c-d974-1d8eb0cb5f64"
      },
      "execution_count": 26,
      "outputs": [
        {
          "output_type": "display_data",
          "data": {
            "text/plain": [
              "<Figure size 640x480 with 1 Axes>"
            ],
            "image/png": "[encoded data removed]"
          },
          "metadata": {}
        }
      ]
    },
    {
      "cell_type": "markdown",
      "source": [
        "Bước 3: Chuyển dữ liệu dạng list sang dạng mảng numpy"
      ],
      "metadata": {
        "id": "fQxkn4ZPDobY"
      }
    },
    {
      "cell_type": "code",
      "source": [
        "# converting data and labels into numpy array\n",
        "x =[np.array(a).reshape(1, 30), np.array(b).reshape(1, 30), np.array(c).reshape(1, 30)]\n",
        "y = np.array(y)\n",
        "print(x, \"\\n\\n\", y)"
      ],
      "metadata": {
        "colab": {
          "base_uri": "https://localhost:8080/"
        },
        "id": "_kB38c19D59F",
        "outputId": "8ebc58a3-5cb0-49a4-b920-c3b84be0884d"
      },
      "execution_count": 27,
      "outputs": [
        {
          "output_type": "stream",
          "name": "stdout",
          "text": [
            "[array([[0, 0, 1, 1, 0, 0, 0, 1, 0, 0, 1, 0, 1, 1, 1, 1, 1, 1, 1, 0, 0, 0,\n",
            "        0, 1, 1, 0, 0, 0, 0, 1]]), array([[0, 1, 1, 1, 1, 0, 0, 1, 0, 0, 1, 0, 0, 1, 1, 1, 1, 0, 0, 1, 0, 0,\n",
            "        1, 0, 0, 1, 1, 1, 1, 0]]), array([[0, 1, 1, 1, 1, 0, 0, 1, 0, 0, 0, 0, 0, 1, 0, 0, 0, 0, 0, 1, 0, 0,\n",
            "        0, 0, 0, 1, 1, 1, 1, 0]])] \n",
            "\n",
            " [[1 0 0]\n",
            " [0 1 0]\n",
            " [0 0 1]]\n"
          ]
        }
      ]
    },
    {
      "cell_type": "markdown",
      "source": [
        "Bước 4: Xác định cấu trúc các lớp bao gồm:\n",
        "- Input: lớp 30 nút(5x6)\n",
        "- Hidden: lớp 5 nút\n",
        "- Output: lớp 3 nút\n",
        "\n",
        "Bước 5: Định nghĩa các hàm: sử dụng hàm kích hoạt sigmoid, tính toán đầu ra, cập nhật trọng số và tính toán lỗi"
      ],
      "metadata": {
        "id": "1PxEZhqSEEPR"
      }
    },
    {
      "cell_type": "code",
      "source": [
        "# activation function\n",
        "def sigmoid(x):\n",
        "    return(1/(1 + np.exp(-x)))\n",
        "\n",
        "# Creating the Feed forward neural network\n",
        "def f_forward(x, w1, w2):\n",
        "    # hidden\n",
        "    z1 = x.dot(w1)    # input from layer 1\n",
        "    a1 = sigmoid(z1)  # out put of layer 2\n",
        "    z2 = a1.dot(w2)   # input of out layer\n",
        "    a2 = sigmoid(z2)  # output of out layer\n",
        "    return(a2)\n",
        "\n",
        "# initializing the weights randomly\n",
        "def generate_wt(x, y):\n",
        "    li =[]\n",
        "    for i in range(x * y):\n",
        "        li.append(np.random.randn())\n",
        "    return(np.array(li).reshape(x, y))\n",
        "\n",
        "# for loss we will be using mean square error(MSE)\n",
        "def loss(out, Y):\n",
        "    s =(np.square(out-Y))\n",
        "    s = np.sum(s)/len(y)\n",
        "    return(s)\n",
        "\n",
        "# Back propagation of error\n",
        "def back_prop(x, y, w1, w2, alpha):\n",
        "\n",
        "    # hidden layer\n",
        "    z1 = x.dot(w1)\n",
        "    a1 = sigmoid(z1)\n",
        "    z2 = a1.dot(w2)\n",
        "    a2 = sigmoid(z2)\n",
        "\n",
        "    # error in output layer\n",
        "    d2 =(a2-y)\n",
        "    d1 = np.multiply((w2.dot((d2.transpose()))).transpose(),\n",
        "                                (np.multiply(a1, 1-a1)))\n",
        "    # Gradient for w1 and w2\n",
        "    w1_adj = x.transpose().dot(d1)\n",
        "    w2_adj = a1.transpose().dot(d2)\n",
        "\n",
        "    # Updating parameters\n",
        "    w1 = w1-(alpha*(w1_adj))\n",
        "    w2 = w2-(alpha*(w2_adj))\n",
        "\n",
        "    return(w1, w2)"
      ],
      "metadata": {
        "id": "6cDYirMNEcGb"
      },
      "execution_count": 28,
      "outputs": []
    },
    {
      "cell_type": "markdown",
      "source": [
        "Bước 6: Khởi tạo trọng số ngẫu nhiên cho Hidden và Output"
      ],
      "metadata": {
        "id": "jBzpibDOFRmT"
      }
    },
    {
      "cell_type": "code",
      "source": [
        "w1 = generate_wt(30, 5)\n",
        "w2 = generate_wt(5, 3)\n",
        "print(w1, \"\\n\\n\", w2)"
      ],
      "metadata": {
        "colab": {
          "base_uri": "https://localhost:8080/"
        },
        "id": "vucmquBkFhG1",
        "outputId": "a5c39cbf-66c8-4914-c351-075044abe896"
      },
      "execution_count": 29,
      "outputs": [
        {
          "output_type": "stream",
          "name": "stdout",
          "text": [
            "[[-0.58290346  1.55927558 -1.19105552 -0.77888955  1.34615446]\n",
            " [-0.67125871 -0.02721325  0.83188924 -0.75433675  0.40639501]\n",
            " [ 1.07804564 -0.35498447  1.2315552   0.42870942  0.19082703]\n",
            " [ 0.16469868  0.62632474 -0.79242198 -1.01257736 -0.96118076]\n",
            " [-1.62350305  0.8335189   1.22694092 -1.04387149  0.14784002]\n",
            " [-0.41395227  1.14015049 -0.34553363 -0.90433815 -1.19361393]\n",
            " [-1.51330969  0.45939167 -0.21366798  0.83225602  1.91380962]\n",
            " [ 0.04579669 -0.79820659 -0.4835561   0.96119278 -0.34570678]\n",
            " [-1.0284217  -0.01677081  0.44989553  0.40517563 -1.4279027 ]\n",
            " [ 0.80013503 -0.20492094  0.28046906 -1.65422378  0.96002123]\n",
            " [ 0.77246324  0.86657515 -0.44663861  1.4465145  -1.21578261]\n",
            " [-0.47322337 -0.39514613 -1.49131418 -1.02672905 -0.24956124]\n",
            " [ 1.86781444 -0.84603392  0.30079097  0.63864451 -0.42964006]\n",
            " [-0.06942594 -0.5657707   0.47239567  0.67344768 -0.33445067]\n",
            " [ 1.69836067  0.8013724   0.9967558  -0.93813965  0.81928902]\n",
            " [ 1.7721814   0.81192548  1.64899693  1.08549712  1.12350888]\n",
            " [-0.32052702  1.44862175 -0.71759245 -0.51065076 -0.02597716]\n",
            " [ 0.66013347  0.85898211 -0.72350445 -0.23334154  1.07325455]\n",
            " [ 0.38308949  1.17469094  1.17087578 -1.35607989 -0.07107549]\n",
            " [-1.76781645 -0.69097983  0.98900846  1.25748505 -1.30362879]\n",
            " [ 0.45870544 -0.23404972  0.7949776   1.83258774 -0.41433064]\n",
            " [ 0.13392633 -0.03101858  0.8104068  -0.2998094  -0.80427764]\n",
            " [ 2.1998376   0.91340612  0.21753237 -0.77154462 -1.67896585]\n",
            " [-0.55267181 -0.17828893 -0.72881056  0.15682795 -0.7077709 ]\n",
            " [ 0.62980683  0.89461446  0.27943538 -2.0779585   2.32354928]\n",
            " [-0.12216141  0.53287327  0.71161014  2.09922385 -0.91425147]\n",
            " [ 0.62597582 -0.90719911 -0.28959187 -0.940346    2.04489431]\n",
            " [ 0.37983022 -0.49930103 -0.46447704  1.01238206  0.61479857]\n",
            " [ 1.00564667  1.32717094 -0.15619219 -0.25884072  1.00250387]\n",
            " [-1.09006757 -2.25558431 -1.20375179 -0.528167    0.51218947]] \n",
            "\n",
            " [[-0.04811367 -1.45929259  0.71845323]\n",
            " [-0.35516785 -0.25499641 -0.519379  ]\n",
            " [-1.41412039  0.2012876  -0.66234416]\n",
            " [ 1.7137367   0.26364267  1.05766657]\n",
            " [-0.01418617 -0.30751746 -0.9401359 ]]\n"
          ]
        }
      ]
    },
    {
      "cell_type": "markdown",
      "source": [
        "Bước 7: Huấn luyện mô hình bằng hàm train"
      ],
      "metadata": {
        "id": "GCktEw5-Fl86"
      }
    },
    {
      "cell_type": "code",
      "source": [
        "def train(x, Y, w1, w2, alpha = 0.01, epoch = 10):\n",
        "    acc =[]\n",
        "    losss =[]\n",
        "    for j in range(epoch):\n",
        "        l =[]\n",
        "        for i in range(len(x)):\n",
        "            out = f_forward(x[i], w1, w2)\n",
        "            l.append((loss(out, Y[i])))\n",
        "            w1, w2 = back_prop(x[i], y[i], w1, w2, alpha)\n",
        "        print(\"epochs:\", j + 1, \"======== acc:\", (1-(sum(l)/len(x)))*100)\n",
        "        acc.append((1-(sum(l)/len(x)))*100)\n",
        "        losss.append(sum(l)/len(x))\n",
        "    return(acc, losss, w1, w2)\n",
        "\n",
        "acc, losss, w1, w2 = train(x, y, w1, w2, 0.1, 100)"
      ],
      "metadata": {
        "colab": {
          "base_uri": "https://localhost:8080/"
        },
        "id": "v7dqNhd4GV1_",
        "outputId": "50269e86-055b-4d89-8228-7549eb0396a7"
      },
      "execution_count": 30,
      "outputs": [
        {
          "output_type": "stream",
          "name": "stdout",
          "text": [
            "epochs: 1 ======== acc: 69.74925992445111\n",
            "epochs: 2 ======== acc: 71.42831173111261\n",
            "epochs: 3 ======== acc: 73.05084806639397\n",
            "epochs: 4 ======== acc: 74.63536910864832\n",
            "epochs: 5 ======== acc: 76.16401759286283\n",
            "epochs: 6 ======== acc: 77.59527071749717\n",
            "epochs: 7 ======== acc: 78.89201160104564\n",
            "epochs: 8 ======== acc: 80.04170529208811\n",
            "epochs: 9 ======== acc: 81.05417461210698\n",
            "epochs: 10 ======== acc: 81.94912633160556\n",
            "epochs: 11 ======== acc: 82.74696774597793\n",
            "epochs: 12 ======== acc: 83.46509776269421\n",
            "epochs: 13 ======== acc: 84.11727329489926\n",
            "epochs: 14 ======== acc: 84.71410043121472\n",
            "epochs: 15 ======== acc: 85.26375560114349\n",
            "epochs: 16 ======== acc: 85.77262670282974\n",
            "epochs: 17 ======== acc: 86.24580362257397\n",
            "epochs: 18 ======== acc: 86.68742969244254\n",
            "epochs: 19 ======== acc: 87.10094618640862\n",
            "epochs: 20 ======== acc: 87.48926099180896\n",
            "epochs: 21 ======== acc: 87.85486574638705\n",
            "epochs: 22 ======== acc: 88.19991865871368\n",
            "epochs: 23 ======== acc: 88.52630460255982\n",
            "epochs: 24 ======== acc: 88.83568006545435\n",
            "epochs: 25 ======== acc: 89.12950783789366\n",
            "epochs: 26 ======== acc: 89.40908458117929\n",
            "epochs: 27 ======== acc: 89.67556329866665\n",
            "epochs: 28 ======== acc: 89.92997203310054\n",
            "epochs: 29 ======== acc: 90.17322967096219\n",
            "epochs: 30 ======== acc: 90.40615945606231\n",
            "epochs: 31 ======== acc: 90.62950063759048\n",
            "epochs: 32 ======== acc: 90.84391856412917\n",
            "epochs: 33 ======== acc: 91.05001346090194\n",
            "epochs: 34 ======== acc: 91.2483280778946\n",
            "epochs: 35 ======== acc: 91.43935436221537\n",
            "epochs: 36 ======== acc: 91.6235392833919\n",
            "epochs: 37 ======== acc: 91.80128992168409\n",
            "epochs: 38 ======== acc: 91.97297791474182\n",
            "epochs: 39 ======== acc: 92.13894334574721\n",
            "epochs: 40 ======== acc: 92.29949814576818\n",
            "epochs: 41 ======== acc: 92.45492907396287\n",
            "epochs: 42 ======== acc: 92.60550033124535\n",
            "epochs: 43 ======== acc: 92.75145585589573\n",
            "epochs: 44 ======== acc: 92.89302134327036\n",
            "epochs: 45 ======== acc: 93.03040602616878\n",
            "epochs: 46 ======== acc: 93.16380424747952\n",
            "epochs: 47 ======== acc: 93.29339685240403\n",
            "epochs: 48 ======== acc: 93.41935242378624\n",
            "epochs: 49 ======== acc: 93.54182838080438\n",
            "epochs: 50 ======== acc: 93.66097195845522\n",
            "epochs: 51 ======== acc: 93.77692108282757\n",
            "epochs: 52 ======== acc: 93.88980515507491\n",
            "epochs: 53 ======== acc: 93.99974575520929\n",
            "epochs: 54 ======== acc: 94.10685727531153\n",
            "epochs: 55 ======== acc: 94.21124749044853\n",
            "epochs: 56 ======== acc: 94.31301807447562\n",
            "epochs: 57 ======== acc: 94.41226506695227\n",
            "epochs: 58 ======== acc: 94.50907929658801\n",
            "epochs: 59 ======== acc: 94.6035467659424\n",
            "epochs: 60 ======== acc: 94.69574900150863\n",
            "epochs: 61 ======== acc: 94.78576337280187\n",
            "epochs: 62 ======== acc: 94.87366338363454\n",
            "epochs: 63 ======== acc: 94.95951893838478\n",
            "epochs: 64 ======== acc: 95.04339658573745\n",
            "epochs: 65 ======== acc: 95.12535974209551\n",
            "epochs: 66 ======== acc: 95.20546889661328\n",
            "epochs: 67 ======== acc: 95.28378179959108\n",
            "epochs: 68 ======== acc: 95.36035363578195\n",
            "epochs: 69 ======== acc: 95.43523718399913\n",
            "epochs: 70 ======== acc: 95.50848296426818\n",
            "epochs: 71 ======== acc: 95.58013937364096\n",
            "epochs: 72 ======== acc: 95.65025281167671\n",
            "epochs: 73 ======== acc: 95.71886779649591\n",
            "epochs: 74 ======== acc: 95.78602707222453\n",
            "epochs: 75 ======== acc: 95.85177170856718\n",
            "epochs: 76 ======== acc: 95.91614119317826\n",
            "epochs: 77 ======== acc: 95.9791735174365\n",
            "epochs: 78 ======== acc: 96.04090525617293\n",
            "epochs: 79 ======== acc: 96.10137164185124\n",
            "epochs: 80 ======== acc: 96.16060663365396\n",
            "epochs: 81 ======== acc: 96.21864298188781\n",
            "epochs: 82 ======== acc: 96.27551228808372\n",
            "epochs: 83 ======== acc: 96.33124506113427\n",
            "epochs: 84 ======== acc: 96.385870769781\n",
            "epochs: 85 ======== acc: 96.43941789173691\n",
            "epochs: 86 ======== acc: 96.49191395970463\n",
            "epochs: 87 ======== acc: 96.54338560452818\n",
            "epochs: 88 ======== acc: 96.59385859569656\n",
            "epochs: 89 ======== acc: 96.64335787939797\n",
            "epochs: 90 ======== acc: 96.69190761430767\n",
            "epochs: 91 ======== acc: 96.73953120527625\n",
            "epochs: 92 ======== acc: 96.7862513350721\n",
            "epochs: 93 ======== acc: 96.83208999431837\n",
            "epochs: 94 ======== acc: 96.87706850975381\n",
            "epochs: 95 ======== acc: 96.92120757093593\n",
            "epochs: 96 ======== acc: 96.9645272554955\n",
            "epochs: 97 ======== acc: 97.00704705304253\n",
            "epochs: 98 ======== acc: 97.04878588781618\n",
            "epochs: 99 ======== acc: 97.08976214016309\n",
            "epochs: 100 ======== acc: 97.12999366692257\n"
          ]
        }
      ]
    },
    {
      "cell_type": "markdown",
      "source": [
        "Bước 8: Trực quan hóa"
      ],
      "metadata": {
        "id": "cLb3pL6iI542"
      }
    },
    {
      "cell_type": "code",
      "source": [
        "import matplotlib.pyplot as plt1\n",
        "\n",
        "# plotting accuracy\n",
        "plt1.plot(acc)\n",
        "plt1.ylabel('Accuracy')\n",
        "plt1.xlabel(\"Epochs:\")\n",
        "plt1.show()\n",
        "\n",
        "# plotting Loss\n",
        "plt1.plot(losss)\n",
        "plt1.ylabel('Loss')\n",
        "plt1.xlabel(\"Epochs:\")\n",
        "plt1.show()"
      ],
      "metadata": {
        "colab": {
          "base_uri": "https://localhost:8080/",
          "height": 881
        },
        "id": "XNyJwCPRIfD2",
        "outputId": "7fbb1fc0-fde1-4653-a944-a3bb754ac6ee"
      },
      "execution_count": 31,
      "outputs": [
        {
          "output_type": "display_data",
          "data": {
            "text/plain": [
              "<Figure size 640x480 with 1 Axes>"
            ],
            "image/png": "[encoded data removed]"
          },
          "metadata": {}
        },
        {
          "output_type": "display_data",
          "data": {
            "text/plain": [
              "<Figure size 640x480 with 1 Axes>"
            ],
            "image/png": "[encoded data removed]"
          },
          "metadata": {}
        }
      ]
    },
    {
      "cell_type": "markdown",
      "source": [
        "Bược 9: Dự đoán"
      ],
      "metadata": {
        "id": "qbFqYoBlJA9u"
      }
    },
    {
      "cell_type": "code",
      "source": [
        "def predict(x, w1, w2):\n",
        "    Out = f_forward(x, w1, w2)\n",
        "    maxm = 0\n",
        "    k = 0\n",
        "    for i in range(len(Out[0])):\n",
        "        if(maxm<Out[0][i]):\n",
        "            maxm = Out[0][i]\n",
        "            k = i\n",
        "    if(k == 0):\n",
        "        print(\"Image is of letter A.\")\n",
        "    elif(k == 1):\n",
        "        print(\"Image is of letter B.\")\n",
        "    else:\n",
        "        print(\"Image is of letter C.\")\n",
        "    plt.imshow(x.reshape(5, 6))\n",
        "    plt.show()\n",
        "\n",
        "# Example: Predicting for letter 'B'\n",
        "predict(x[1], w1, w2)"
      ],
      "metadata": {
        "colab": {
          "base_uri": "https://localhost:8080/",
          "height": 447
        },
        "id": "O5N3QrPwIle7",
        "outputId": "972ad157-639b-4ae2-dcdd-d63e546976ce"
      },
      "execution_count": 32,
      "outputs": [
        {
          "output_type": "stream",
          "name": "stdout",
          "text": [
            "Image is of letter B.\n"
          ]
        },
        {
          "output_type": "display_data",
          "data": {
            "text/plain": [
              "<Figure size 640x480 with 1 Axes>"
            ],
            "image/png": "[encoded data removed]"
          },
          "metadata": {}
        }
      ]
    },
    {
      "cell_type": "markdown",
      "source": [
        "#Nhận xét\n",
        "\n",
        "Hiệu suất học tập rất tốt: Accuracy tăng nhanh và đều đặn, sau đó tăng chậm để tiệm cận mức tối ưu.\n",
        "\n",
        "Quá trình huấn luyện ổn định: Loss giảm liên tục và không dao động mạnh, đạt giá trị rất thấp trong những epoch cuối cùng.\n",
        "\n",
        "Kết quả cuối cùng: Mô hình nhận dạng ký tự chính xác, xác nhận khả năng hoạt động hiệu quả cho bài toán."
      ],
      "metadata": {
        "id": "0QxM2QiFIttE"
      }
    }
  ]
}